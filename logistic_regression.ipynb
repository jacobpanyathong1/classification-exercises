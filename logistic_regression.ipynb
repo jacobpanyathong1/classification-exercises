{
 "cells": [
  {
   "cell_type": "code",
   "execution_count": 2,
   "id": "2d73a610",
   "metadata": {},
   "outputs": [],
   "source": [
    "import warnings\n",
    "warnings.filterwarnings(\"ignore\")\n",
    "import acquire\n",
    "import prepare\n",
    "import numpy as np\n",
    "import seaborn as sns\n",
    "from sklearn.model_selection import train_test_split\n",
    "from sklearn.linear_model import LogisticRegression\n",
    "from sklearn.metrics import classification_report\n",
    "from sklearn.metrics import confusion_matrix\n",
    "\n",
    "import matplotlib.pyplot as plt"
   ]
  },
  {
   "cell_type": "code",
   "execution_count": 3,
   "id": "7ae5ab25",
   "metadata": {},
   "outputs": [],
   "source": [
    "titanic_df = acquire.get_titanic()"
   ]
  },
  {
   "cell_type": "code",
   "execution_count": 5,
   "id": "1e9128f5",
   "metadata": {},
   "outputs": [
    {
     "ename": "AttributeError",
     "evalue": "module 'prepare' has no attribute 'prep_titanic_data'",
     "output_type": "error",
     "traceback": [
      "\u001b[0;31m---------------------------------------------------------------------------\u001b[0m",
      "\u001b[0;31mAttributeError\u001b[0m                            Traceback (most recent call last)",
      "Input \u001b[0;32mIn [5]\u001b[0m, in \u001b[0;36m<cell line: 1>\u001b[0;34m()\u001b[0m\n\u001b[0;32m----> 1\u001b[0m prepped_titanic \u001b[38;5;241m=\u001b[39m \u001b[43mprepare\u001b[49m\u001b[38;5;241;43m.\u001b[39;49m\u001b[43mprep_titanic_data\u001b[49m(titanic_df)\n",
      "\u001b[0;31mAttributeError\u001b[0m: module 'prepare' has no attribute 'prep_titanic_data'"
     ]
    }
   ],
   "source": [
    "prepped_titanic = prepare.prep_titanic_data(titanic_df)"
   ]
  },
  {
   "cell_type": "code",
   "execution_count": 12,
   "id": "3e27a028",
   "metadata": {},
   "outputs": [],
   "source": [
    "train, validate, test = split_titanic_data(prepped_titanic)"
   ]
  },
  {
   "cell_type": "code",
   "execution_count": 13,
   "id": "8eda46eb",
   "metadata": {},
   "outputs": [],
   "source": [
    "#train.drop(columns='age', inplace=True)"
   ]
  },
  {
   "cell_type": "code",
   "execution_count": 14,
   "id": "be63c80a",
   "metadata": {},
   "outputs": [],
   "source": [
    "#validate.drop(columns='age', inplace=True)"
   ]
  },
  {
   "cell_type": "code",
   "execution_count": 15,
   "id": "23aeabc0",
   "metadata": {},
   "outputs": [],
   "source": [
    "#test.drop(columns='age', inplace=True)"
   ]
  },
  {
   "cell_type": "code",
   "execution_count": 18,
   "id": "f6648adb",
   "metadata": {},
   "outputs": [],
   "source": [
    "train, validate, test= impute_titanic_mode(train, validate, test)"
   ]
  },
  {
   "cell_type": "code",
   "execution_count": null,
   "id": "0011c15e",
   "metadata": {},
   "outputs": [],
   "source": [
    "from sklearn.impute import SimpleImputer"
   ]
  },
  {
   "cell_type": "code",
   "execution_count": 19,
   "id": "3198e45b",
   "metadata": {},
   "outputs": [
    {
     "data": {
      "text/plain": [
       "Index(['survived', 'pclass', 'age', 'sibsp', 'parch', 'fare', 'alone',\n",
       "       'sex_male', 'embark_town_Queenstown', 'embark_town_Southampton'],\n",
       "      dtype='object')"
      ]
     },
     "execution_count": 19,
     "metadata": {},
     "output_type": "execute_result"
    }
   ],
   "source": [
    "train.columns"
   ]
  },
  {
   "cell_type": "code",
   "execution_count": null,
   "id": "9ef3142c",
   "metadata": {},
   "outputs": [],
   "source": [
    "X_train = train.drop(columns=['survived'])\n",
    "X_train.columns\n",
    "X_train.isna().sum()\n",
    "X_train.info()"
   ]
  },
  {
   "cell_type": "code",
   "execution_count": null,
   "id": "d2920804",
   "metadata": {},
   "outputs": [],
   "source": [
    "y_train = train.survived"
   ]
  },
  {
   "cell_type": "code",
   "execution_count": null,
   "id": "69246480",
   "metadata": {},
   "outputs": [],
   "source": [
    "X_validate = train.drop(columns=['survived'])"
   ]
  },
  {
   "cell_type": "code",
   "execution_count": null,
   "id": "b4a4d2ca",
   "metadata": {},
   "outputs": [],
   "source": [
    "y_validate = train.survived"
   ]
  },
  {
   "cell_type": "code",
   "execution_count": null,
   "id": "39f01567",
   "metadata": {},
   "outputs": [],
   "source": [
    "X_test = train.drop(columns=['survived'])\n",
    "y_test = train.survived"
   ]
  },
  {
   "cell_type": "code",
   "execution_count": null,
   "id": "d0841073",
   "metadata": {},
   "outputs": [],
   "source": [
    "train['baseline_predictions']= 0"
   ]
  },
  {
   "cell_type": "code",
   "execution_count": null,
   "id": "1f3efde8",
   "metadata": {},
   "outputs": [],
   "source": [
    "from sklearn.linear_model import LogisticRegression"
   ]
  },
  {
   "cell_type": "code",
   "execution_count": null,
   "id": "096bf279",
   "metadata": {},
   "outputs": [],
   "source": [
    "seed = 42"
   ]
  },
  {
   "cell_type": "code",
   "execution_count": null,
   "id": "71175cfd",
   "metadata": {},
   "outputs": [],
   "source": [
    "# from sklearn.linear_model import LogisticRegression\n",
    "logit = LogisticRegression(class_weight={0:1, 1:99}, random_state=123, solver='lbfgs')\n"
   ]
  },
  {
   "cell_type": "code",
   "execution_count": null,
   "id": "e4beeaef",
   "metadata": {},
   "outputs": [],
   "source": [
    "logit.fit(X_train, y_train)"
   ]
  },
  {
   "cell_type": "code",
   "execution_count": null,
   "id": "70197a5c",
   "metadata": {},
   "outputs": [],
   "source": [
    "logit.classes_"
   ]
  },
  {
   "cell_type": "code",
   "execution_count": null,
   "id": "d0bf3ceb",
   "metadata": {},
   "outputs": [],
   "source": [
    "len(logit.coef_[0])"
   ]
  },
  {
   "cell_type": "code",
   "execution_count": null,
   "id": "32563d42",
   "metadata": {},
   "outputs": [],
   "source": [
    "len(X_train.columns)"
   ]
  },
  {
   "cell_type": "code",
   "execution_count": null,
   "id": "d49206a7",
   "metadata": {},
   "outputs": [],
   "source": [
    "print('Coefficient: \\n', logit.coef_)\n",
    "print('Intercept: \\n', logit.intercept_)"
   ]
  },
  {
   "cell_type": "code",
   "execution_count": null,
   "id": "f6cab0a5",
   "metadata": {},
   "outputs": [],
   "source": [
    "y_pred = logit.predict(X_train)"
   ]
  },
  {
   "cell_type": "code",
   "execution_count": null,
   "id": "2b65ced2",
   "metadata": {},
   "outputs": [],
   "source": [
    "y_pred_proba = logit.predict_proba(X_train)"
   ]
  },
  {
   "cell_type": "code",
   "execution_count": null,
   "id": "5a0024d0",
   "metadata": {},
   "outputs": [],
   "source": [
    "print('Accuracy of Logistic Regression classifier on training set: {:.2f}'\n",
    "     .format(logit.score(X_train, y_train)))\n"
   ]
  },
  {
   "cell_type": "code",
   "execution_count": null,
   "id": "e6d1bee2",
   "metadata": {},
   "outputs": [],
   "source": [
    "print(confusion_matrix(y_train, y_pred))\n"
   ]
  },
  {
   "cell_type": "code",
   "execution_count": null,
   "id": "a6274e6d",
   "metadata": {},
   "outputs": [],
   "source": [
    "print(classification_report(y_train, y_pred))\n"
   ]
  },
  {
   "cell_type": "code",
   "execution_count": null,
   "id": "da7efeee",
   "metadata": {},
   "outputs": [],
   "source": [
    "logit2 = LogisticRegression(class_weight={0:1, 1:99}, random_state=123, solver='lbfgs')"
   ]
  },
  {
   "cell_type": "code",
   "execution_count": null,
   "id": "3a925851",
   "metadata": {},
   "outputs": [],
   "source": [
    "logit2.fit(X_train, y_train)"
   ]
  },
  {
   "cell_type": "code",
   "execution_count": null,
   "id": "eabd9354",
   "metadata": {},
   "outputs": [],
   "source": [
    "logit2.coef_"
   ]
  },
  {
   "cell_type": "code",
   "execution_count": null,
   "id": "9dbc0497",
   "metadata": {},
   "outputs": [],
   "source": []
  },
  {
   "cell_type": "code",
   "execution_count": null,
   "id": "b1d19e21",
   "metadata": {},
   "outputs": [],
   "source": [
    "print('Coefficient: \\n', logit2.coef_)\n",
    "print('Intercept: \\n', logit2.intercept_)"
   ]
  },
  {
   "cell_type": "code",
   "execution_count": null,
   "id": "a33d41d3",
   "metadata": {},
   "outputs": [],
   "source": [
    "y_pred2 = logit2.predict(X_train)\n"
   ]
  },
  {
   "cell_type": "code",
   "execution_count": null,
   "id": "dae2915a",
   "metadata": {},
   "outputs": [],
   "source": [
    "y_pred_proba2 = logit2.predict_proba(X_train)\n"
   ]
  },
  {
   "cell_type": "code",
   "execution_count": null,
   "id": "b336ef91",
   "metadata": {},
   "outputs": [],
   "source": [
    "print('Accuracy of Logistic Regression classifier on training set: {:.2f}'\n",
    "     .format(logit2.score(X_train, y_train)))\n"
   ]
  },
  {
   "cell_type": "code",
   "execution_count": null,
   "id": "7a95b3ce",
   "metadata": {},
   "outputs": [],
   "source": [
    "print(confusion_matrix(y_train, y_pred2))"
   ]
  },
  {
   "cell_type": "code",
   "execution_count": null,
   "id": "ee831600",
   "metadata": {},
   "outputs": [],
   "source": [
    "# make predictions\n",
    "\n",
    "y_pred1 = logit.predict(X_validate)\n",
    "y_pred2 = logit2.predict(X_validate)\n",
    "\n",
    "\n",
    "print(\"Model 1: solver = lbfgs, c = 1\")\n",
    "\n",
    "# accuracy of model 1\n",
    "print('Accuracy: {:.2f}'.format(logit.score(X_validate, y_validate)))\n",
    "\n",
    "# confusion matrix of model 1\n",
    "print(confusion_matrix(y_validate, y_pred1))\n",
    "\n",
    "# classification report of model 1\n",
    "print(classification_report(y_validate, y_pred1))\n",
    "\n",
    "print(\"Model 2: solver = lbfgs, c = .1\")\n",
    "\n",
    "# accuracy of model 2\n",
    "print('Accuracy: {:.2f}'.format(logit2.score(X_validate, y_validate)))\n",
    "\n",
    "# confusion matrix of model 2\n",
    "print(confusion_matrix(y_validate, y_pred2))\n",
    "\n",
    "# classification report of model 2\n",
    "print(classification_report(y_validate, y_pred2))\n"
   ]
  },
  {
   "cell_type": "code",
   "execution_count": null,
   "id": "f56c8cd7",
   "metadata": {},
   "outputs": [],
   "source": [
    "y_pred = logit.predict(X_test)\n",
    "y_pred_proba = logit.predict_proba(X_test)\n",
    "\n",
    "print(\"Model 1: solver = lbfgs, c = 1\")\n",
    "\n",
    "print('Accuracy: {:.2f}'.format(logit.score(X_test, y_test)))\n",
    "\n",
    "print(confusion_matrix(y_test, y_pred))\n",
    "\n",
    "print(classification_report(y_test, y_pred))\n"
   ]
  },
  {
   "cell_type": "code",
   "execution_count": null,
   "id": "220b0168",
   "metadata": {},
   "outputs": [],
   "source": [
    "# create array of probabilities of being versicolor (versicolor == 1)\n",
    "\n",
    "y_pred_proba = np.array([i[1] for i in y_pred_proba])\n"
   ]
  },
  {
   "cell_type": "code",
   "execution_count": null,
   "id": "547369b1",
   "metadata": {},
   "outputs": [],
   "source": [
    "fig = plt.figure()\n",
    "ax = fig.add_subplot(111)\n",
    "\n",
    "# scatter plot where x is the probabilities and y is the class (0, 1)\n",
    "ax.scatter(y_pred_proba, y_pred)\n"
   ]
  },
  {
   "cell_type": "code",
   "execution_count": null,
   "id": "dc9e0401",
   "metadata": {},
   "outputs": [],
   "source": []
  }
 ],
 "metadata": {
  "kernelspec": {
   "display_name": "Python 3 (ipykernel)",
   "language": "python",
   "name": "python3"
  },
  "language_info": {
   "codemirror_mode": {
    "name": "ipython",
    "version": 3
   },
   "file_extension": ".py",
   "mimetype": "text/x-python",
   "name": "python",
   "nbconvert_exporter": "python",
   "pygments_lexer": "ipython3",
   "version": "3.9.13"
  }
 },
 "nbformat": 4,
 "nbformat_minor": 5
}
