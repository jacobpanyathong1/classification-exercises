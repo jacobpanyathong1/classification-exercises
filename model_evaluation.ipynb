{
 "cells": [
  {
   "cell_type": "markdown",
   "id": "8f280bea",
   "metadata": {},
   "source": [
    "#### Evaluate (by hand) the model's performance"
   ]
  },
  {
   "cell_type": "markdown",
   "id": "49a0e997",
   "metadata": {},
   "source": [
    "|               | pred dog   | pred cat   |\n",
    "|:------------  |-----------:|-----------:|\n",
    "| actual dog    |         46 |         7  |\n",
    "| actual cat    |         13 |         34 |\n"
   ]
  },
  {
   "cell_type": "markdown",
   "id": "8bcc01c9",
   "metadata": {},
   "source": [
    "The pred cat/actual dog value is a false positive. 7"
   ]
  },
  {
   "cell_type": "markdown",
   "id": "4aadb979",
   "metadata": {},
   "source": [
    "The pred dog/actual cat is a false negative. 13"
   ]
  },
  {
   "cell_type": "markdown",
   "id": "1b02720b",
   "metadata": {},
   "source": [
    "###### The model above is a confusion matrix with a true positive for pred/actual dog and true negative pred/actual cat."
   ]
  },
  {
   "cell_type": "code",
   "execution_count": null,
   "id": "68fad515",
   "metadata": {},
   "outputs": [],
   "source": []
  },
  {
   "cell_type": "code",
   "execution_count": 1,
   "id": "4177930c",
   "metadata": {},
   "outputs": [],
   "source": [
    "import os \n",
    "import pandas as pd\n",
    "from sklearn.metrics import confusion_matrix\n",
    "import sklearn.metrics"
   ]
  },
  {
   "cell_type": "code",
   "execution_count": 2,
   "id": "f0647bc1",
   "metadata": {},
   "outputs": [],
   "source": [
    "c3_df= pd.read_csv('c3.csv')"
   ]
  },
  {
   "cell_type": "code",
   "execution_count": 3,
   "id": "4cd05a8f",
   "metadata": {},
   "outputs": [
    {
     "data": {
      "text/html": [
       "<div>\n",
       "<style scoped>\n",
       "    .dataframe tbody tr th:only-of-type {\n",
       "        vertical-align: middle;\n",
       "    }\n",
       "\n",
       "    .dataframe tbody tr th {\n",
       "        vertical-align: top;\n",
       "    }\n",
       "\n",
       "    .dataframe thead th {\n",
       "        text-align: right;\n",
       "    }\n",
       "</style>\n",
       "<table border=\"1\" class=\"dataframe\">\n",
       "  <thead>\n",
       "    <tr style=\"text-align: right;\">\n",
       "      <th></th>\n",
       "      <th>actual</th>\n",
       "      <th>model1</th>\n",
       "      <th>model2</th>\n",
       "      <th>model3</th>\n",
       "    </tr>\n",
       "  </thead>\n",
       "  <tbody>\n",
       "    <tr>\n",
       "      <th>0</th>\n",
       "      <td>No Defect</td>\n",
       "      <td>No Defect</td>\n",
       "      <td>Defect</td>\n",
       "      <td>No Defect</td>\n",
       "    </tr>\n",
       "    <tr>\n",
       "      <th>1</th>\n",
       "      <td>No Defect</td>\n",
       "      <td>No Defect</td>\n",
       "      <td>Defect</td>\n",
       "      <td>Defect</td>\n",
       "    </tr>\n",
       "    <tr>\n",
       "      <th>2</th>\n",
       "      <td>No Defect</td>\n",
       "      <td>No Defect</td>\n",
       "      <td>Defect</td>\n",
       "      <td>No Defect</td>\n",
       "    </tr>\n",
       "    <tr>\n",
       "      <th>3</th>\n",
       "      <td>No Defect</td>\n",
       "      <td>Defect</td>\n",
       "      <td>Defect</td>\n",
       "      <td>Defect</td>\n",
       "    </tr>\n",
       "    <tr>\n",
       "      <th>4</th>\n",
       "      <td>No Defect</td>\n",
       "      <td>No Defect</td>\n",
       "      <td>Defect</td>\n",
       "      <td>No Defect</td>\n",
       "    </tr>\n",
       "  </tbody>\n",
       "</table>\n",
       "</div>"
      ],
      "text/plain": [
       "      actual     model1  model2     model3\n",
       "0  No Defect  No Defect  Defect  No Defect\n",
       "1  No Defect  No Defect  Defect     Defect\n",
       "2  No Defect  No Defect  Defect  No Defect\n",
       "3  No Defect     Defect  Defect     Defect\n",
       "4  No Defect  No Defect  Defect  No Defect"
      ]
     },
     "execution_count": 3,
     "metadata": {},
     "output_type": "execute_result"
    }
   ],
   "source": [
    "c3_df.head()"
   ]
  },
  {
   "cell_type": "code",
   "execution_count": 4,
   "id": "04ca607b",
   "metadata": {},
   "outputs": [],
   "source": [
    "model1= pd.crosstab(c3_df.actual, c3_df.model1) #Model 1 crosstab\n",
    "model2= pd.crosstab(c3_df.actual, c3_df.model2) #Model 2 crosstab\n",
    "model3= pd.crosstab(c3_df.actual, c3_df.model3) #Model 3 crosstab"
   ]
  },
  {
   "cell_type": "code",
   "execution_count": 7,
   "id": "cbc6e40e",
   "metadata": {},
   "outputs": [],
   "source": [
    "model1_ar=confusion_matrix(c3_df.actual,c3_df.model1)"
   ]
  },
  {
   "cell_type": "code",
   "execution_count": 8,
   "id": "a981a8e2",
   "metadata": {},
   "outputs": [
    {
     "data": {
      "text/html": [
       "<div>\n",
       "<style scoped>\n",
       "    .dataframe tbody tr th:only-of-type {\n",
       "        vertical-align: middle;\n",
       "    }\n",
       "\n",
       "    .dataframe tbody tr th {\n",
       "        vertical-align: top;\n",
       "    }\n",
       "\n",
       "    .dataframe thead th {\n",
       "        text-align: right;\n",
       "    }\n",
       "</style>\n",
       "<table border=\"1\" class=\"dataframe\">\n",
       "  <thead>\n",
       "    <tr style=\"text-align: right;\">\n",
       "      <th>model1</th>\n",
       "      <th>Defect</th>\n",
       "      <th>No Defect</th>\n",
       "    </tr>\n",
       "    <tr>\n",
       "      <th>actual</th>\n",
       "      <th></th>\n",
       "      <th></th>\n",
       "    </tr>\n",
       "  </thead>\n",
       "  <tbody>\n",
       "    <tr>\n",
       "      <th>Defect</th>\n",
       "      <td>8</td>\n",
       "      <td>8</td>\n",
       "    </tr>\n",
       "    <tr>\n",
       "      <th>No Defect</th>\n",
       "      <td>2</td>\n",
       "      <td>182</td>\n",
       "    </tr>\n",
       "  </tbody>\n",
       "</table>\n",
       "</div>"
      ],
      "text/plain": [
       "model1     Defect  No Defect\n",
       "actual                      \n",
       "Defect          8          8\n",
       "No Defect       2        182"
      ]
     },
     "execution_count": 8,
     "metadata": {},
     "output_type": "execute_result"
    }
   ],
   "source": [
    "model1 # Model 1 confusion matrix"
   ]
  },
  {
   "cell_type": "code",
   "execution_count": 11,
   "id": "bb3cc79e",
   "metadata": {},
   "outputs": [],
   "source": [
    "model1_tp = model1_ar[0][0] # True Positive\n",
    "model1_tn = model1_ar[1][1] # True Negative\n",
    "model1_fn = model1_ar[0][1] # False Negative\n",
    "model1_fp = model1_ar[1][0] # False Positive\n",
    "perc_per = (model1_tp)/(model1_tp++model1_fp)*100"
   ]
  },
  {
   "cell_type": "code",
   "execution_count": 12,
   "id": "3be2182a",
   "metadata": {},
   "outputs": [
    {
     "name": "stdout",
     "output_type": "stream",
     "text": [
      "Percision percentage: 80.0\n"
     ]
    }
   ],
   "source": [
    "print(f'Percision percentage: {perc_per}')"
   ]
  },
  {
   "cell_type": "code",
   "execution_count": 15,
   "id": "aac37261",
   "metadata": {},
   "outputs": [],
   "source": [
    "model2_ar=confusion_matrix(c3_df.actual,c3_df.model2)"
   ]
  },
  {
   "cell_type": "code",
   "execution_count": 16,
   "id": "ad5e4b5f",
   "metadata": {},
   "outputs": [
    {
     "data": {
      "text/html": [
       "<div>\n",
       "<style scoped>\n",
       "    .dataframe tbody tr th:only-of-type {\n",
       "        vertical-align: middle;\n",
       "    }\n",
       "\n",
       "    .dataframe tbody tr th {\n",
       "        vertical-align: top;\n",
       "    }\n",
       "\n",
       "    .dataframe thead th {\n",
       "        text-align: right;\n",
       "    }\n",
       "</style>\n",
       "<table border=\"1\" class=\"dataframe\">\n",
       "  <thead>\n",
       "    <tr style=\"text-align: right;\">\n",
       "      <th>model2</th>\n",
       "      <th>Defect</th>\n",
       "      <th>No Defect</th>\n",
       "    </tr>\n",
       "    <tr>\n",
       "      <th>actual</th>\n",
       "      <th></th>\n",
       "      <th></th>\n",
       "    </tr>\n",
       "  </thead>\n",
       "  <tbody>\n",
       "    <tr>\n",
       "      <th>Defect</th>\n",
       "      <td>9</td>\n",
       "      <td>7</td>\n",
       "    </tr>\n",
       "    <tr>\n",
       "      <th>No Defect</th>\n",
       "      <td>81</td>\n",
       "      <td>103</td>\n",
       "    </tr>\n",
       "  </tbody>\n",
       "</table>\n",
       "</div>"
      ],
      "text/plain": [
       "model2     Defect  No Defect\n",
       "actual                      \n",
       "Defect          9          7\n",
       "No Defect      81        103"
      ]
     },
     "execution_count": 16,
     "metadata": {},
     "output_type": "execute_result"
    }
   ],
   "source": [
    "model2"
   ]
  },
  {
   "cell_type": "code",
   "execution_count": 17,
   "id": "aaf05933",
   "metadata": {},
   "outputs": [
    {
     "data": {
      "text/plain": [
       "array([[  9,   7],\n",
       "       [ 81, 103]])"
      ]
     },
     "execution_count": 17,
     "metadata": {},
     "output_type": "execute_result"
    }
   ],
   "source": [
    "model2_ar"
   ]
  },
  {
   "cell_type": "code",
   "execution_count": 18,
   "id": "48ef6e51",
   "metadata": {},
   "outputs": [],
   "source": [
    "model2_tp = model2_ar[0][0]\n",
    "model2_tn = model2_ar[1][1]\n",
    "model2_fn = model2_ar[0][1]\n",
    "model2_fp = model2_ar[1][0]\n",
    "perc_per = (model2_tp)/(model2_tp+model2_fp)*100"
   ]
  },
  {
   "cell_type": "code",
   "execution_count": 20,
   "id": "35ce48d6",
   "metadata": {},
   "outputs": [
    {
     "name": "stdout",
     "output_type": "stream",
     "text": [
      "Percision percentage: 10.0\n"
     ]
    }
   ],
   "source": [
    "print(f'Percision percentage: {perc_per}')"
   ]
  },
  {
   "cell_type": "code",
   "execution_count": 22,
   "id": "caf1aaea",
   "metadata": {},
   "outputs": [
    {
     "data": {
      "text/html": [
       "<div>\n",
       "<style scoped>\n",
       "    .dataframe tbody tr th:only-of-type {\n",
       "        vertical-align: middle;\n",
       "    }\n",
       "\n",
       "    .dataframe tbody tr th {\n",
       "        vertical-align: top;\n",
       "    }\n",
       "\n",
       "    .dataframe thead th {\n",
       "        text-align: right;\n",
       "    }\n",
       "</style>\n",
       "<table border=\"1\" class=\"dataframe\">\n",
       "  <thead>\n",
       "    <tr style=\"text-align: right;\">\n",
       "      <th>model3</th>\n",
       "      <th>Defect</th>\n",
       "      <th>No Defect</th>\n",
       "    </tr>\n",
       "    <tr>\n",
       "      <th>actual</th>\n",
       "      <th></th>\n",
       "      <th></th>\n",
       "    </tr>\n",
       "  </thead>\n",
       "  <tbody>\n",
       "    <tr>\n",
       "      <th>Defect</th>\n",
       "      <td>13</td>\n",
       "      <td>3</td>\n",
       "    </tr>\n",
       "    <tr>\n",
       "      <th>No Defect</th>\n",
       "      <td>86</td>\n",
       "      <td>98</td>\n",
       "    </tr>\n",
       "  </tbody>\n",
       "</table>\n",
       "</div>"
      ],
      "text/plain": [
       "model3     Defect  No Defect\n",
       "actual                      \n",
       "Defect         13          3\n",
       "No Defect      86         98"
      ]
     },
     "execution_count": 22,
     "metadata": {},
     "output_type": "execute_result"
    }
   ],
   "source": [
    "model3"
   ]
  },
  {
   "cell_type": "code",
   "execution_count": 23,
   "id": "f25afc6e",
   "metadata": {},
   "outputs": [],
   "source": [
    "model3_ar=confusion_matrix(c3_df.actual,c3_df.model3)"
   ]
  },
  {
   "cell_type": "code",
   "execution_count": 24,
   "id": "2405a6c8",
   "metadata": {},
   "outputs": [],
   "source": [
    "model3_tp = model3_ar[0][0]\n",
    "model3_tn = model3_ar[1][1]\n",
    "model3_fn = model3_ar[0][1]\n",
    "model3_fp = model3_ar[1][0]\n",
    "perc_per = (model3_tp)/(model3_tp+model3_fp)*100"
   ]
  },
  {
   "cell_type": "code",
   "execution_count": 26,
   "id": "4233ca8c",
   "metadata": {},
   "outputs": [
    {
     "name": "stdout",
     "output_type": "stream",
     "text": [
      "Percision percentage: 13.131313131313133\n"
     ]
    }
   ],
   "source": [
    "print(f'Percision percentage: {perc_per}')"
   ]
  },
  {
   "cell_type": "markdown",
   "id": "6439443b",
   "metadata": {},
   "source": [
    "###### Codeup ducks - Percision, finding the amount of defects for the as many defects as possible and would be close to the amount of overall accuracy for total defects."
   ]
  },
  {
   "cell_type": "code",
   "execution_count": null,
   "id": "029d9355",
   "metadata": {},
   "outputs": [],
   "source": []
  },
  {
   "cell_type": "code",
   "execution_count": 29,
   "id": "fbb2b909",
   "metadata": {},
   "outputs": [
    {
     "data": {
      "text/plain": [
       "No Defect    184\n",
       "Defect        16\n",
       "Name: actual, dtype: int64"
      ]
     },
     "execution_count": 29,
     "metadata": {},
     "output_type": "execute_result"
    }
   ],
   "source": [
    "c3_df.actual.value_counts()"
   ]
  },
  {
   "cell_type": "code",
   "execution_count": 35,
   "id": "5bc6ff99",
   "metadata": {},
   "outputs": [
    {
     "data": {
      "text/html": [
       "<div>\n",
       "<style scoped>\n",
       "    .dataframe tbody tr th:only-of-type {\n",
       "        vertical-align: middle;\n",
       "    }\n",
       "\n",
       "    .dataframe tbody tr th {\n",
       "        vertical-align: top;\n",
       "    }\n",
       "\n",
       "    .dataframe thead th {\n",
       "        text-align: right;\n",
       "    }\n",
       "</style>\n",
       "<table border=\"1\" class=\"dataframe\">\n",
       "  <thead>\n",
       "    <tr style=\"text-align: right;\">\n",
       "      <th></th>\n",
       "      <th>actual</th>\n",
       "      <th>model1</th>\n",
       "      <th>model2</th>\n",
       "      <th>model3</th>\n",
       "      <th>baeline_prediction</th>\n",
       "    </tr>\n",
       "  </thead>\n",
       "  <tbody>\n",
       "    <tr>\n",
       "      <th>0</th>\n",
       "      <td>No Defect</td>\n",
       "      <td>No Defect</td>\n",
       "      <td>Defect</td>\n",
       "      <td>No Defect</td>\n",
       "      <td>No Defect</td>\n",
       "    </tr>\n",
       "    <tr>\n",
       "      <th>1</th>\n",
       "      <td>No Defect</td>\n",
       "      <td>No Defect</td>\n",
       "      <td>Defect</td>\n",
       "      <td>Defect</td>\n",
       "      <td>No Defect</td>\n",
       "    </tr>\n",
       "    <tr>\n",
       "      <th>2</th>\n",
       "      <td>No Defect</td>\n",
       "      <td>No Defect</td>\n",
       "      <td>Defect</td>\n",
       "      <td>No Defect</td>\n",
       "      <td>No Defect</td>\n",
       "    </tr>\n",
       "    <tr>\n",
       "      <th>3</th>\n",
       "      <td>No Defect</td>\n",
       "      <td>Defect</td>\n",
       "      <td>Defect</td>\n",
       "      <td>Defect</td>\n",
       "      <td>No Defect</td>\n",
       "    </tr>\n",
       "    <tr>\n",
       "      <th>4</th>\n",
       "      <td>No Defect</td>\n",
       "      <td>No Defect</td>\n",
       "      <td>Defect</td>\n",
       "      <td>No Defect</td>\n",
       "      <td>No Defect</td>\n",
       "    </tr>\n",
       "    <tr>\n",
       "      <th>...</th>\n",
       "      <td>...</td>\n",
       "      <td>...</td>\n",
       "      <td>...</td>\n",
       "      <td>...</td>\n",
       "      <td>...</td>\n",
       "    </tr>\n",
       "    <tr>\n",
       "      <th>195</th>\n",
       "      <td>No Defect</td>\n",
       "      <td>No Defect</td>\n",
       "      <td>Defect</td>\n",
       "      <td>Defect</td>\n",
       "      <td>No Defect</td>\n",
       "    </tr>\n",
       "    <tr>\n",
       "      <th>196</th>\n",
       "      <td>Defect</td>\n",
       "      <td>Defect</td>\n",
       "      <td>No Defect</td>\n",
       "      <td>No Defect</td>\n",
       "      <td>No Defect</td>\n",
       "    </tr>\n",
       "    <tr>\n",
       "      <th>197</th>\n",
       "      <td>No Defect</td>\n",
       "      <td>No Defect</td>\n",
       "      <td>No Defect</td>\n",
       "      <td>No Defect</td>\n",
       "      <td>No Defect</td>\n",
       "    </tr>\n",
       "    <tr>\n",
       "      <th>198</th>\n",
       "      <td>No Defect</td>\n",
       "      <td>No Defect</td>\n",
       "      <td>Defect</td>\n",
       "      <td>Defect</td>\n",
       "      <td>No Defect</td>\n",
       "    </tr>\n",
       "    <tr>\n",
       "      <th>199</th>\n",
       "      <td>No Defect</td>\n",
       "      <td>No Defect</td>\n",
       "      <td>No Defect</td>\n",
       "      <td>Defect</td>\n",
       "      <td>No Defect</td>\n",
       "    </tr>\n",
       "  </tbody>\n",
       "</table>\n",
       "<p>200 rows × 5 columns</p>\n",
       "</div>"
      ],
      "text/plain": [
       "        actual     model1     model2     model3 baeline_prediction\n",
       "0    No Defect  No Defect     Defect  No Defect          No Defect\n",
       "1    No Defect  No Defect     Defect     Defect          No Defect\n",
       "2    No Defect  No Defect     Defect  No Defect          No Defect\n",
       "3    No Defect     Defect     Defect     Defect          No Defect\n",
       "4    No Defect  No Defect     Defect  No Defect          No Defect\n",
       "..         ...        ...        ...        ...                ...\n",
       "195  No Defect  No Defect     Defect     Defect          No Defect\n",
       "196     Defect     Defect  No Defect  No Defect          No Defect\n",
       "197  No Defect  No Defect  No Defect  No Defect          No Defect\n",
       "198  No Defect  No Defect     Defect     Defect          No Defect\n",
       "199  No Defect  No Defect  No Defect     Defect          No Defect\n",
       "\n",
       "[200 rows x 5 columns]"
      ]
     },
     "execution_count": 35,
     "metadata": {},
     "output_type": "execute_result"
    }
   ],
   "source": [
    "c3_df['baeline_prediction'] = 'No Defect'\n",
    "c3_df"
   ]
  },
  {
   "cell_type": "markdown",
   "id": "aedd7f70",
   "metadata": {},
   "source": [
    "##### Recall, finding the amount of defects will reward the consumer with the paid vacation but a duck that isn't defective will be costly to the business. Only using recall will leave out a false positive but capture only postive cases. "
   ]
  },
  {
   "cell_type": "code",
   "execution_count": null,
   "id": "b953205e",
   "metadata": {},
   "outputs": [],
   "source": []
  },
  {
   "cell_type": "code",
   "execution_count": 36,
   "id": "ac5ada0d",
   "metadata": {},
   "outputs": [],
   "source": [
    "perc_recall = (model1_tp)/(model1_tp+model1_fn)*100"
   ]
  },
  {
   "cell_type": "code",
   "execution_count": 37,
   "id": "2dd91ae9",
   "metadata": {},
   "outputs": [
    {
     "data": {
      "text/plain": [
       "50.0"
      ]
     },
     "execution_count": 37,
     "metadata": {},
     "output_type": "execute_result"
    }
   ],
   "source": [
    "perc_recall"
   ]
  },
  {
   "cell_type": "code",
   "execution_count": 38,
   "id": "4fa159e0",
   "metadata": {},
   "outputs": [
    {
     "data": {
      "text/plain": [
       "56.25"
      ]
     },
     "execution_count": 38,
     "metadata": {},
     "output_type": "execute_result"
    }
   ],
   "source": [
    "perc_recall = (model2_tp)/(model2_tp+model2_fn)*100\n",
    "perc_recall"
   ]
  },
  {
   "cell_type": "code",
   "execution_count": 39,
   "id": "6d5216a6",
   "metadata": {},
   "outputs": [
    {
     "data": {
      "text/plain": [
       "81.25"
      ]
     },
     "execution_count": 39,
     "metadata": {},
     "output_type": "execute_result"
    }
   ],
   "source": [
    "perc_recall = (model3_tp)/(model3_tp+model3_fn)*100\n",
    "perc_recall"
   ]
  },
  {
   "cell_type": "code",
   "execution_count": 40,
   "id": "58f6c6af",
   "metadata": {},
   "outputs": [
    {
     "name": "stdout",
     "output_type": "stream",
     "text": [
      "Model1\n",
      "Model precision: 80.00%\n"
     ]
    }
   ],
   "source": [
    "subset= c3_df[c3_df.model1 == 'Defect']\n",
    "model_precision = (subset.actual == subset.model1).mean()\n",
    "print('Model1')\n",
    "print(f'Model precision: {model_precision:.2%}')"
   ]
  },
  {
   "cell_type": "code",
   "execution_count": 41,
   "id": "8e5f35ae",
   "metadata": {},
   "outputs": [
    {
     "name": "stdout",
     "output_type": "stream",
     "text": [
      "Model2\n",
      "Model precision: 10.00%\n"
     ]
    }
   ],
   "source": [
    "subset= c3_df[c3_df.model2 == 'Defect']\n",
    "model_precision = (subset.actual == subset.model2).mean()\n",
    "print('Model2')\n",
    "print(f'Model precision: {model_precision:.2%}')"
   ]
  },
  {
   "cell_type": "code",
   "execution_count": 42,
   "id": "3a8ebfbe",
   "metadata": {},
   "outputs": [
    {
     "name": "stdout",
     "output_type": "stream",
     "text": [
      "Model3\n",
      "Model precision: 13.13%\n"
     ]
    }
   ],
   "source": [
    "subset= c3_df[c3_df.model3 == 'Defect']\n",
    "model_precision = (subset.actual == subset.model3).mean()\n",
    "print('Model3')\n",
    "print(f'Model precision: {model_precision:.2%}')"
   ]
  },
  {
   "cell_type": "markdown",
   "id": "2d47b1af",
   "metadata": {},
   "source": [
    "### Catdog series"
   ]
  },
  {
   "cell_type": "code",
   "execution_count": 86,
   "id": "d94e3f5f",
   "metadata": {},
   "outputs": [
    {
     "data": {
      "text/plain": [
       "dog    3254\n",
       "cat    1746\n",
       "Name: actual, dtype: int64"
      ]
     },
     "execution_count": 86,
     "metadata": {},
     "output_type": "execute_result"
    }
   ],
   "source": [
    "catdog_df= pd.read_csv('gives_you_paws.csv')\n",
    "catdog_df\n",
    "catdog_df.actual.value_counts() # Baseline is Dog #idxmax = max value in series #idxmin= min"
   ]
  },
  {
   "cell_type": "code",
   "execution_count": 85,
   "id": "408ae24a",
   "metadata": {},
   "outputs": [
    {
     "data": {
      "text/plain": [
       "array([[1423,  323],\n",
       "       [ 640, 2614]])"
      ]
     },
     "execution_count": 85,
     "metadata": {},
     "output_type": "execute_result"
    }
   ],
   "source": [
    "y_true = catdog_df['actual']\n",
    "y_pred = catdog_df['model1']\n",
    "confusion_matrix(y_true, y_pred, labels=['cat', 'dog'])"
   ]
  },
  {
   "cell_type": "code",
   "execution_count": 100,
   "id": "9ed634ac",
   "metadata": {},
   "outputs": [
    {
     "name": "stdout",
     "output_type": "stream",
     "text": [
      "model1 accuracy: 80.74%\n",
      "baseline accuracy: 65.08%\n"
     ]
    }
   ],
   "source": [
    "catdog_df['baseline_prediction'] = 'dog'# Baseline\n",
    "#Model 1 baseline accuracy\n",
    "model_accuracy = (catdog_df.model1 == catdog_df.actual).mean()\n",
    "baseline_accuracy = (catdog_df.baseline_prediction == catdog_df.actual).mean()\n",
    "#Print accuracy percentage\n",
    "print(f'model1 accuracy: {model_accuracy:.2%}')\n",
    "print(f'baseline accuracy: {baseline_accuracy:.2%}')"
   ]
  },
  {
   "cell_type": "code",
   "execution_count": 102,
   "id": "6a07cb26",
   "metadata": {},
   "outputs": [
    {
     "name": "stdout",
     "output_type": "stream",
     "text": [
      "model1 accuracy: 63.04%\n",
      "baseline accuracy: 65.08%\n"
     ]
    }
   ],
   "source": [
    "#Model 2 baseline accuracy\n",
    "model_accuracy = (catdog_df.model2 == catdog_df.actual).mean()\n",
    "baseline_accuracy = (catdog_df.baseline_prediction == catdog_df.actual).mean()\n",
    "#Print accuracy percentage\n",
    "print(f'model1 accuracy: {model_accuracy:.2%}')\n",
    "print(f'baseline accuracy: {baseline_accuracy:.2%}')"
   ]
  },
  {
   "cell_type": "code",
   "execution_count": 103,
   "id": "d5b82d39",
   "metadata": {},
   "outputs": [
    {
     "name": "stdout",
     "output_type": "stream",
     "text": [
      "model1 accuracy: 50.96%\n",
      "baseline accuracy: 65.08%\n"
     ]
    }
   ],
   "source": [
    "#Model 3 baseline accuracy\n",
    "model_accuracy = (catdog_df.model3 == catdog_df.actual).mean()\n",
    "baseline_accuracy = (catdog_df.baseline_prediction == catdog_df.actual).mean()\n",
    "#Print accuracy percentage\n",
    "print(f'model1 accuracy: {model_accuracy:.2%}')\n",
    "print(f'baseline accuracy: {baseline_accuracy:.2%}')"
   ]
  },
  {
   "cell_type": "code",
   "execution_count": 101,
   "id": "fd74004c",
   "metadata": {},
   "outputs": [
    {
     "name": "stdout",
     "output_type": "stream",
     "text": [
      " model1 recall: 80.33%\n",
      " baseline recall: 100.00%\n"
     ]
    }
   ],
   "source": [
    "#Model 1 baseline recall\n",
    "subset = catdog_df[catdog_df.actual == 'dog']\n",
    "model_recall = (subset.model1 ==subset.actual).mean()\n",
    "baseline_recall = (subset.baseline_prediction == subset.actual).mean()\n",
    "#Print recall percentage\n",
    "print(f' model1 recall: {model_recall:.2%}')\n",
    "print(f' baseline recall: {baseline_recall:.2%}')"
   ]
  },
  {
   "cell_type": "code",
   "execution_count": 106,
   "id": "42161943",
   "metadata": {},
   "outputs": [
    {
     "name": "stdout",
     "output_type": "stream",
     "text": [
      "model2 accuracy: 63.04%\n",
      "baseline accuracy: 65.08%\n"
     ]
    }
   ],
   "source": [
    "#Model 2 baseline accuracy\n",
    "model_accuracy = (catdog_df.model2 == catdog_df.actual).mean()\n",
    "baseline_accuracy = (catdog_df.baseline_prediction == catdog_df.actual).mean()\n",
    "#Print accuracy percentage\n",
    "print(f'model2 accuracy: {model_accuracy:.2%}')\n",
    "print(f'baseline accuracy: {baseline_accuracy:.2%}')"
   ]
  },
  {
   "cell_type": "code",
   "execution_count": 107,
   "id": "14c16e42",
   "metadata": {},
   "outputs": [
    {
     "name": "stdout",
     "output_type": "stream",
     "text": [
      "model3 accuracy: 50.96%\n",
      "baseline accuracy: 65.08%\n"
     ]
    }
   ],
   "source": [
    "#Model 3 baseline accuracy\n",
    "model_accuracy = (catdog_df.model3 == catdog_df.actual).mean()\n",
    "baseline_accuracy = (catdog_df.baseline_prediction == catdog_df.actual).mean()\n",
    "#Print accuracy percentage\n",
    "print(f'model3 accuracy: {model_accuracy:.2%}')\n",
    "print(f'baseline accuracy: {baseline_accuracy:.2%}')"
   ]
  },
  {
   "cell_type": "code",
   "execution_count": 110,
   "id": "155ff263",
   "metadata": {},
   "outputs": [
    {
     "name": "stdout",
     "output_type": "stream",
     "text": [
      "model3 accuracy: 50.96%\n",
      "baseline accuracy: 34.92%\n"
     ]
    }
   ],
   "source": [
    "subset = catdog_df[catdog_df.actual == 'cat']\n",
    "catdog_df['baseline_prediction'] = 'cat'\n",
    "model_accuracy = (catdog_df.model3 == catdog_df.actual).mean()\n",
    "baseline_accuracy = (catdog_df.baseline_prediction == catdog_df.actual).mean()\n",
    "#Print accuracy percentage\n",
    "print(f'model3 accuracy: {model_accuracy:.2%}')\n",
    "print(f'baseline accuracy: {baseline_accuracy:.2%}')"
   ]
  },
  {
   "cell_type": "markdown",
   "id": "34b826ac",
   "metadata": {},
   "source": [
    "<div class=\"myDiv\">\n",
    "  <h3>Takeaways</h3>\n",
    "    <p>a. The models that are better than the baseline are <b>Model2</b> and <b>Model3</b> </p>\n",
    "    <p>b. The model I recommend is <b>Model1</b> as the accuracy is the highest amounst all of the models from our findings. </p>\n",
    "    <p>c. The model I recommend is <b>Model1</b> as the accuracy is the highest amounst all of the models from our findings. </p>\n",
    "</div>"
   ]
  },
  {
   "cell_type": "code",
   "execution_count": 119,
   "id": "0ddfd158",
   "metadata": {},
   "outputs": [
    {
     "data": {
      "text/plain": [
       "0.8900238338440586"
      ]
     },
     "execution_count": 119,
     "metadata": {},
     "output_type": "execute_result"
    }
   ],
   "source": [
    "sklearn.metrics.precision_score(y_true, y_pred, pos_label='dog')"
   ]
  },
  {
   "cell_type": "markdown",
   "id": "391fea97",
   "metadata": {},
   "source": [
    "###### for every time the model runs for a dog it gets it right 89 percent of the time. "
   ]
  },
  {
   "cell_type": "code",
   "execution_count": null,
   "id": "8f92f036",
   "metadata": {},
   "outputs": [],
   "source": []
  }
 ],
 "metadata": {
  "kernelspec": {
   "display_name": "Python 3 (ipykernel)",
   "language": "python",
   "name": "python3"
  },
  "language_info": {
   "codemirror_mode": {
    "name": "ipython",
    "version": 3
   },
   "file_extension": ".py",
   "mimetype": "text/x-python",
   "name": "python",
   "nbconvert_exporter": "python",
   "pygments_lexer": "ipython3",
   "version": "3.9.13"
  }
 },
 "nbformat": 4,
 "nbformat_minor": 5
}
